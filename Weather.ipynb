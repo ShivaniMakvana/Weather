{
  "nbformat": 4,
  "nbformat_minor": 0,
  "metadata": {
    "colab": {
      "name": "Weather.ipynb",
      "provenance": [],
      "authorship_tag": "ABX9TyMl7dp4IXl2F784EDrmke56"
    },
    "kernelspec": {
      "name": "python3",
      "display_name": "Python 3"
    },
    "language_info": {
      "name": "python"
    }
  },
  "cells": [
    {
      "cell_type": "markdown",
      "metadata": {
        "id": "Yb_B9EMIhsbp"
      },
      "source": [
        "# **Weather Data**"
      ]
    },
    {
      "cell_type": "code",
      "metadata": {
        "colab": {
          "base_uri": "https://localhost:8080/"
        },
        "id": "ahqNBt7uf7Wm",
        "outputId": "faca4afd-1a96-4ea3-be4d-6a99d383da3d"
      },
      "source": [
        "import requests\n",
        "import os\n",
        "from datetime import datetime\n",
        "\n",
        "text_file = open('Weather.txt',\"w+\")\n",
        "api_key = '938968824f2af88adbc9b744aa0ab401'\n",
        "location = input(\"Enter the city name: \")\n",
        "\n",
        "complete_api_link = \"https://api.openweathermap.org/data/2.5/weather?q=\"+location+\"&appid=\"+api_key\n",
        "api_link = requests.get(complete_api_link)\n",
        "api_data = api_link.json()\n",
        "\n",
        "#create variables to store and display data\n",
        "temp_city = ((api_data['main']['temp']) - 273.15)\n",
        "weather_desc = api_data['weather'][0]['description']\n",
        "hmdt = api_data['main']['humidity']\n",
        "wind_spd = api_data['wind']['speed']\n",
        "date_time = datetime.now().strftime(\"%d %b %Y | %I:%M:%S %p\")\n",
        "\n",
        "print (\"-------------------------------------------------------------\")\n",
        "print (\"Weather Stats for - {}  || {}\".format(location.upper(), date_time))\n",
        "print (\"-------------------------------------------------------------\")\n",
        "\n",
        "print (\"Current temperature is: {:.2f} deg C\".format(temp_city))\n",
        "print (\"Current weather desc  :\",weather_desc)\n",
        "print (\"Current Humidity      :\",hmdt, '%')\n",
        "print (\"Current wind speed    :\",wind_spd ,'kmph')\n",
        "\n",
        "# output to text file using file method\n",
        "def text_write():\n",
        "    text_file.write(\"-------------------------------------------------------------\\n\")\n",
        "    text_file.write((\"Weather Stats for - {}  || {}\\n\".format(location.upper(), date_time)))\n",
        "    text_file.write(\"-------------------------------------------------------------\\n\")\n",
        "    text_file.write((\"Current temperature is: {:.2f} deg C \\n\".format(temp_city)))\n",
        "    text_file.write((\"Current weather desc  :\"+weather_desc+'\\n'))\n",
        "    text_file.write((\"Current Humidity      :\"+str(hmdt)+ '%\\n'))\n",
        "    text_file.write((\"Current wind speed    :\"+str(wind_spd) +'kmph\\n'))\n",
        "text_write()\n",
        "print()\n",
        "print(\"****A text file with the weather report has been created. You can view by opening the txt file called Weather.txt****\")\n",
        "print (\"-------------------------------------------------------------\")\n",
        "print (\"Weather Stats for - {}  || {}\".format(location.upper(), date_time))\n",
        "print (\"-------------------------------------------------------------\")\n",
        "\n",
        "print (\"Current temperature is: {:.2f} deg C\".format(temp_city))\n",
        "print (\"Current weather desc  :\",weather_desc)\n",
        "print (\"Current Humidity      :\",hmdt, '%')\n",
        "print (\"Current wind speed    :\",wind_spd ,'kmph')"
      ],
      "execution_count": 7,
      "outputs": [
        {
          "output_type": "stream",
          "text": [
            "Enter the city name: Ahmedabad\n",
            "-------------------------------------------------------------\n",
            "Weather Stats for - AHMEDABAD  || 22 Jun 2021 | 07:05:20 AM\n",
            "-------------------------------------------------------------\n",
            "Current temperature is: 32.02 deg C\n",
            "Current weather desc  : haze\n",
            "Current Humidity      : 66 %\n",
            "Current wind speed    : 4.12 kmph\n",
            "\n",
            "****A text file with the weather report has been created. You can view by opening the txt file called Weather.txt****\n",
            "-------------------------------------------------------------\n",
            "Weather Stats for - AHMEDABAD  || 22 Jun 2021 | 07:05:20 AM\n",
            "-------------------------------------------------------------\n",
            "Current temperature is: 32.02 deg C\n",
            "Current weather desc  : haze\n",
            "Current Humidity      : 66 %\n",
            "Current wind speed    : 4.12 kmph\n"
          ],
          "name": "stdout"
        }
      ]
    }
  ]
}